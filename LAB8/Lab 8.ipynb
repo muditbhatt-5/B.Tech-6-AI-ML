{
 "cells": [
  {
   "cell_type": "markdown",
   "id": "7e12d5a4",
   "metadata": {},
   "source": [
    "<a href='https://www.darshan.ac.in/'> <img src='https://www.darshan.ac.in/Content/media/DU_Logo.svg' width=\"250\" height=\"300\"/></a>\n",
    "<pre>\n",
    "<center><b><h1>Machine Learning - 2301CS621</b></center>\n",
    "\n",
    "<center><b><h1>Lab - 8</b></center>    \n",
    "<pre>    "
   ]
  },
  {
   "cell_type": "markdown",
   "id": "55006ba2",
   "metadata": {},
   "source": [
    "# Step 1: Import Libraries\n",
    "This step imports all necessary libraries for data processing, visualization, and machine learning."
   ]
  },
  {
   "cell_type": "code",
   "execution_count": null,
   "id": "820a9484",
   "metadata": {},
   "outputs": [],
   "source": []
  },
  {
   "cell_type": "markdown",
   "id": "93afe8c2",
   "metadata": {},
   "source": [
    "# Step 2: Load the Dataset\n",
    "Load Given dataset -  heart.csv"
   ]
  },
  {
   "cell_type": "code",
   "execution_count": null,
   "id": "6acc269e",
   "metadata": {},
   "outputs": [],
   "source": []
  },
  {
   "cell_type": "markdown",
   "id": "a67c6db6",
   "metadata": {},
   "source": [
    "# Step 3: Data Overview\n",
    "In this step, we examine the dataset structure, summary statistics, and check for missing values."
   ]
  },
  {
   "cell_type": "code",
   "execution_count": null,
   "id": "e2cd6f4c",
   "metadata": {},
   "outputs": [],
   "source": []
  },
  {
   "cell_type": "markdown",
   "id": "d480e362",
   "metadata": {},
   "source": [
    "# Step 4: Univariate Analysis\n",
    "Here we visualize the distribution of each feature using histograms."
   ]
  },
  {
   "cell_type": "code",
   "execution_count": null,
   "id": "5e4c7f80",
   "metadata": {},
   "outputs": [],
   "source": []
  },
  {
   "cell_type": "markdown",
   "id": "97ccda54",
   "metadata": {},
   "source": [
    "# Step 5: Bivariate Analysis\n",
    "This step involves exploring the correlations between features using a heatmap."
   ]
  },
  {
   "cell_type": "code",
   "execution_count": null,
   "id": "ab1a2f71",
   "metadata": {},
   "outputs": [],
   "source": []
  },
  {
   "cell_type": "markdown",
   "id": "76b807f3",
   "metadata": {},
   "source": [
    "# Step 6: Outlier Detection\n",
    "We visualize potential outliers using boxplots."
   ]
  },
  {
   "cell_type": "code",
   "execution_count": null,
   "id": "1a889c21",
   "metadata": {},
   "outputs": [],
   "source": []
  },
  {
   "cell_type": "markdown",
   "id": "45431687",
   "metadata": {},
   "source": [
    "# Step 7: Split Data into Training and Testing Sets\n",
    "The dataset is split into training and testing sets for model evaluation."
   ]
  },
  {
   "cell_type": "code",
   "execution_count": null,
   "id": "108ae57d",
   "metadata": {},
   "outputs": [],
   "source": []
  },
  {
   "cell_type": "markdown",
   "id": "0f2d4d86",
   "metadata": {},
   "source": [
    "# Step 8: Train Decision Tree\n",
    "We train a Decision Tree Classifier on the training data. You have to also check for KNeighborsClassifier and  GaussianNB"
   ]
  },
  {
   "cell_type": "code",
   "execution_count": null,
   "id": "d043000b",
   "metadata": {},
   "outputs": [],
   "source": []
  },
  {
   "cell_type": "code",
   "execution_count": null,
   "id": "68f10fa8",
   "metadata": {},
   "outputs": [],
   "source": []
  },
  {
   "cell_type": "code",
   "execution_count": null,
   "id": "f47c7790",
   "metadata": {},
   "outputs": [],
   "source": []
  },
  {
   "cell_type": "markdown",
   "id": "76f938d8",
   "metadata": {},
   "source": [
    "# Step 9: Evaluate Decision Tree\n",
    "We evaluate the Decision Tree model using accuracy, confusion matrix, and classification report."
   ]
  },
  {
   "cell_type": "code",
   "execution_count": null,
   "id": "11a7b47c",
   "metadata": {},
   "outputs": [],
   "source": []
  },
  {
   "cell_type": "markdown",
   "id": "e99594ee",
   "metadata": {},
   "source": [
    "# Step 10: Visualize Decision Tree\n",
    "Here we visualize the structure of the trained Decision Tree."
   ]
  },
  {
   "cell_type": "code",
   "execution_count": null,
   "id": "1aafa7b4",
   "metadata": {},
   "outputs": [],
   "source": []
  },
  {
   "cell_type": "markdown",
   "id": "bf3e2140",
   "metadata": {},
   "source": [
    "# Step 11: Train Bagging Classifier\n",
    "We train a Bagging Classifier with Decision Trees as the base model."
   ]
  },
  {
   "cell_type": "code",
   "execution_count": null,
   "id": "8e9d1f3a",
   "metadata": {},
   "outputs": [],
   "source": []
  },
  {
   "cell_type": "markdown",
   "id": "1ecfcd69",
   "metadata": {},
   "source": [
    "# Step 12: Evaluate Bagging Classifier\n",
    "The Bagging model is evaluated using accuracy."
   ]
  },
  {
   "cell_type": "code",
   "execution_count": null,
   "id": "ba994aba",
   "metadata": {},
   "outputs": [],
   "source": []
  },
  {
   "cell_type": "markdown",
   "id": "152b874d",
   "metadata": {},
   "source": [
    "# Step 13: Train Random Forest\n",
    "We train a Random Forest Classifier on the dataset."
   ]
  },
  {
   "cell_type": "code",
   "execution_count": null,
   "id": "24fc30fd",
   "metadata": {},
   "outputs": [],
   "source": []
  },
  {
   "cell_type": "markdown",
   "id": "c71e7b91",
   "metadata": {},
   "source": [
    "# Step 14: Feature Importance in Random Forest\n",
    "We analyze feature importance as determined by the Random Forest model."
   ]
  },
  {
   "cell_type": "code",
   "execution_count": null,
   "id": "bc03ed7a",
   "metadata": {},
   "outputs": [],
   "source": []
  },
  {
   "cell_type": "markdown",
   "id": "f9fbf388",
   "metadata": {},
   "source": [
    "# Step 15: Evaluate Random Forest\n",
    "We evaluate the Random Forest model using accuracy."
   ]
  },
  {
   "cell_type": "code",
   "execution_count": null,
   "id": "b225cab8",
   "metadata": {},
   "outputs": [],
   "source": []
  },
  {
   "cell_type": "markdown",
   "id": "08567e07",
   "metadata": {},
   "source": [
    "# Step 16: Train AdaBoost Classifier\n",
    "We train an AdaBoost Classifier on the dataset."
   ]
  },
  {
   "cell_type": "code",
   "execution_count": null,
   "id": "76c8e992",
   "metadata": {},
   "outputs": [],
   "source": []
  },
  {
   "cell_type": "markdown",
   "id": "88f42460",
   "metadata": {},
   "source": [
    "# Step 17: Evaluate AdaBoost Classifier\n",
    "The AdaBoost model is evaluated using accuracy."
   ]
  },
  {
   "cell_type": "code",
   "execution_count": null,
   "id": "b8d9190e",
   "metadata": {},
   "outputs": [],
   "source": []
  },
  {
   "cell_type": "code",
   "execution_count": null,
   "id": "adfa18a4",
   "metadata": {},
   "outputs": [],
   "source": []
  }
 ],
 "metadata": {
  "kernelspec": {
   "display_name": "Python 3 (ipykernel)",
   "language": "python",
   "name": "python3"
  },
  "language_info": {
   "codemirror_mode": {
    "name": "ipython",
    "version": 3
   },
   "file_extension": ".py",
   "mimetype": "text/x-python",
   "name": "python",
   "nbconvert_exporter": "python",
   "pygments_lexer": "ipython3",
   "version": "3.9.13"
  }
 },
 "nbformat": 4,
 "nbformat_minor": 5
}
