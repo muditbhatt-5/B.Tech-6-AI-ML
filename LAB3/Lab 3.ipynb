{
 "cells": [
  {
   "cell_type": "markdown",
   "id": "6132eca0",
   "metadata": {},
   "source": [
    "<a href='https://www.darshan.ac.in/'> <img src='https://www.darshan.ac.in/Content/media/DU_Logo.svg' width=\"250\" height=\"300\"/></a>\n",
    "<pre>\n",
    "<center><b><h1>Machine Learning - 2301CS621</b></center>\n",
    "\n",
    "<center><b><h1>Lab - 3</b></center>\n",
    "<b><h3>Mudit Bhatt</b>   \n",
    "<b><h1>23010101607</b> \n",
    "<pre>    "
   ]
  },
  {
   "cell_type": "markdown",
   "id": "9085361e",
   "metadata": {},
   "source": [
    "# NumPy Exercises\n",
    "## We'll start off with a few simple tasks"
   ]
  },
  {
   "cell_type": "markdown",
   "id": "928b09b6",
   "metadata": {},
   "source": [
    "## import numpy as np"
   ]
  },
  {
   "cell_type": "code",
   "execution_count": 1,
   "id": "9bcc1a71",
   "metadata": {},
   "outputs": [],
   "source": [
    "import numpy as np"
   ]
  },
  {
   "cell_type": "markdown",
   "id": "e8f11599",
   "metadata": {},
   "source": [
    "## Create an array of 10 zeros"
   ]
  },
  {
   "cell_type": "code",
   "execution_count": 2,
   "id": "a9d38039",
   "metadata": {},
   "outputs": [
    {
     "name": "stdout",
     "output_type": "stream",
     "text": [
      "[0. 0. 0. 0. 0. 0. 0. 0. 0. 0.]\n"
     ]
    }
   ],
   "source": [
    "zeros_array = np.zeros(10)\n",
    "\n",
    "print(zeros_array)"
   ]
  },
  {
   "cell_type": "markdown",
   "id": "71ebbac9",
   "metadata": {},
   "source": [
    "## Create an array of 10 ones"
   ]
  },
  {
   "cell_type": "code",
   "execution_count": 3,
   "id": "3623c632",
   "metadata": {},
   "outputs": [
    {
     "name": "stdout",
     "output_type": "stream",
     "text": [
      "[1. 1. 1. 1. 1. 1. 1. 1. 1. 1.]\n"
     ]
    }
   ],
   "source": [
    "ones_array = np.ones(10)\n",
    "\n",
    "print(ones_array)"
   ]
  },
  {
   "cell_type": "markdown",
   "id": "0008ee1e",
   "metadata": {},
   "source": [
    "## Create an array of 10 fives"
   ]
  },
  {
   "cell_type": "code",
   "execution_count": 5,
   "id": "8b04ee24",
   "metadata": {},
   "outputs": [
    {
     "name": "stdout",
     "output_type": "stream",
     "text": [
      "[5 5 5 5 5 5 5 5 5 5]\n"
     ]
    }
   ],
   "source": [
    "fives_array = np.full(10, 5)\n",
    "\n",
    "print(fives_array)"
   ]
  },
  {
   "cell_type": "markdown",
   "id": "2daf2bea",
   "metadata": {},
   "source": [
    "## Create an array of the integers from 10 to 50"
   ]
  },
  {
   "cell_type": "code",
   "execution_count": 6,
   "id": "2b57cbb4",
   "metadata": {},
   "outputs": [
    {
     "name": "stdout",
     "output_type": "stream",
     "text": [
      "[10 11 12 13 14 15 16 17 18 19 20 21 22 23 24 25 26 27 28 29 30 31 32 33\n",
      " 34 35 36 37 38 39 40 41 42 43 44 45 46 47 48 49 50]\n"
     ]
    }
   ],
   "source": [
    "int_array = np.arange(10, 51)\n",
    "\n",
    "print(int_array)"
   ]
  },
  {
   "cell_type": "markdown",
   "id": "6b587c18",
   "metadata": {},
   "source": [
    "## Create a 3x3 matrix with values ranging from 0 to 8"
   ]
  },
  {
   "cell_type": "code",
   "execution_count": 7,
   "id": "b81fc13d",
   "metadata": {},
   "outputs": [
    {
     "name": "stdout",
     "output_type": "stream",
     "text": [
      "[[0 1 2]\n",
      " [3 4 5]\n",
      " [6 7 8]]\n"
     ]
    }
   ],
   "source": [
    "matrix = np.arange(9).reshape(3, 3)\n",
    "\n",
    "print(matrix)"
   ]
  },
  {
   "cell_type": "markdown",
   "id": "ff8e1ea9",
   "metadata": {},
   "source": [
    "## Create a 3x3 identity matrix"
   ]
  },
  {
   "cell_type": "code",
   "execution_count": 8,
   "id": "3549d774",
   "metadata": {},
   "outputs": [
    {
     "name": "stdout",
     "output_type": "stream",
     "text": [
      "[[1. 0. 0.]\n",
      " [0. 1. 0.]\n",
      " [0. 0. 1.]]\n"
     ]
    }
   ],
   "source": [
    "identity_matrix = np.eye(3)\n",
    "\n",
    "print(identity_matrix)"
   ]
  },
  {
   "cell_type": "markdown",
   "id": "a552c1b6",
   "metadata": {},
   "source": [
    "## Create following matrix  = <br/>\n",
    "<pre>array([[ 1,  2,  3,  4,  5],\n",
    "       [ 6,  7,  8,  9, 10],\n",
    "       [11, 12, 13, 14, 15],\n",
    "       [16, 17, 18, 19, 20],\n",
    "       [21, 22, 23, 24, 25]])</pre>"
   ]
  },
  {
   "cell_type": "code",
   "execution_count": 9,
   "id": "885a4c54",
   "metadata": {},
   "outputs": [
    {
     "name": "stdout",
     "output_type": "stream",
     "text": [
      "[[ 1  2  3  4  5]\n",
      " [ 6  7  8  9 10]\n",
      " [11 12 13 14 15]\n",
      " [16 17 18 19 20]\n",
      " [21 22 23 24 25]]\n"
     ]
    }
   ],
   "source": [
    "matrix = np.arange(1, 26).reshape(5, 5)\n",
    "\n",
    "print(matrix)"
   ]
  },
  {
   "cell_type": "markdown",
   "id": "738df6bf",
   "metadata": {},
   "source": [
    "## Output should be =\n",
    "<pre>array([[12, 13, 14, 15],\n",
    "       [17, 18, 19, 20],\n",
    "       [22, 23, 24, 25]])</pre>"
   ]
  },
  {
   "cell_type": "code",
   "execution_count": 10,
   "id": "debe380a",
   "metadata": {},
   "outputs": [
    {
     "name": "stdout",
     "output_type": "stream",
     "text": [
      "[[12 13 14 15]\n",
      " [17 18 19 20]\n",
      " [22 23 24 25]]\n"
     ]
    }
   ],
   "source": [
    "matrix = np.arange(1, 26).reshape(5, 5)\n",
    "\n",
    "submatrix = matrix[2:, 1:]\n",
    "\n",
    "print(submatrix)"
   ]
  },
  {
   "cell_type": "markdown",
   "id": "b9dbc4e8",
   "metadata": {},
   "source": [
    "## Output should be = <br/>\n",
    "<pre>array([[ 2],\n",
    "       [ 7],\n",
    "       [12]])</pre>"
   ]
  },
  {
   "cell_type": "code",
   "execution_count": 13,
   "id": "ced66dc7",
   "metadata": {},
   "outputs": [
    {
     "name": "stdout",
     "output_type": "stream",
     "text": [
      "[[ 2]\n",
      " [ 7]\n",
      " [12]]\n"
     ]
    }
   ],
   "source": [
    "matrix = np.arange(1, 26).reshape(5, 5)\n",
    "\n",
    "submatrix = matrix[0:3, 1:2]\n",
    "\n",
    "print(submatrix)"
   ]
  },
  {
   "cell_type": "markdown",
   "id": "441e6744",
   "metadata": {},
   "source": [
    "## Output should be =  <br/>\n",
    "<pre>array([[16, 17, 18, 19, 20],\n",
    "       [21, 22, 23, 24, 25]])</pre>"
   ]
  },
  {
   "cell_type": "code",
   "execution_count": 14,
   "id": "7f5bf9d1",
   "metadata": {},
   "outputs": [
    {
     "name": "stdout",
     "output_type": "stream",
     "text": [
      "[[16 17 18 19 20]\n",
      " [21 22 23 24 25]]\n"
     ]
    }
   ],
   "source": [
    "matrix = np.arange(1, 26).reshape(5, 5)\n",
    "\n",
    "submatrix = matrix[3:, :]\n",
    "\n",
    "print(submatrix)"
   ]
  },
  {
   "cell_type": "markdown",
   "id": "ff1894dc",
   "metadata": {},
   "source": [
    "# Great Job! You’re Halfway Through 🚀"
   ]
  },
  {
   "cell_type": "markdown",
   "id": "2fa5bb51",
   "metadata": {},
   "source": [
    "## Step 1. Import the necessary libraries"
   ]
  },
  {
   "cell_type": "code",
   "execution_count": 30,
   "id": "7c227ab0",
   "metadata": {},
   "outputs": [],
   "source": [
    "import pandas as pd\n",
    "import numpy as np\n",
    "from sklearn.model_selection import train_test_split\n",
    "from sklearn.linear_model import LinearRegression\n"
   ]
  },
  {
   "cell_type": "markdown",
   "id": "08e8af17-4ef1-4734-8cdf-6f8d0675ff7e",
   "metadata": {},
   "source": [
    "## Step 2. Import the dataset"
   ]
  },
  {
   "cell_type": "code",
   "execution_count": 16,
   "id": "d60eab76",
   "metadata": {},
   "outputs": [
    {
     "name": "stdout",
     "output_type": "stream",
     "text": [
      "   R&D Spend  Administration  Marketing Spend       State     Profit\n",
      "0  165349.20       136897.80        471784.10    New York  192261.83\n",
      "1  162597.70       151377.59        443898.53  California  191792.06\n",
      "2  153441.51       101145.55        407934.54     Florida  191050.39\n",
      "3  144372.41       118671.85        383199.62    New York  182901.99\n",
      "4  142107.34        91391.77        366168.42     Florida  166187.94\n"
     ]
    }
   ],
   "source": [
    "data = pd.read_csv('50_Startups.csv')\n",
    "\n",
    "print(data.head())"
   ]
  },
  {
   "cell_type": "markdown",
   "id": "441173e2",
   "metadata": {},
   "source": [
    "## Step 3 . Check the State Column"
   ]
  },
  {
   "cell_type": "code",
   "execution_count": 17,
   "id": "7a5b358d",
   "metadata": {},
   "outputs": [
    {
     "name": "stdout",
     "output_type": "stream",
     "text": [
      "0       New York\n",
      "1     California\n",
      "2        Florida\n",
      "3       New York\n",
      "4        Florida\n",
      "5       New York\n",
      "6     California\n",
      "7        Florida\n",
      "8       New York\n",
      "9     California\n",
      "10       Florida\n",
      "11    California\n",
      "12       Florida\n",
      "13    California\n",
      "14       Florida\n",
      "15      New York\n",
      "16    California\n",
      "17      New York\n",
      "18       Florida\n",
      "19      New York\n",
      "20    California\n",
      "21      New York\n",
      "22       Florida\n",
      "23       Florida\n",
      "24      New York\n",
      "25    California\n",
      "26       Florida\n",
      "27      New York\n",
      "28       Florida\n",
      "29      New York\n",
      "30       Florida\n",
      "31      New York\n",
      "32    California\n",
      "33       Florida\n",
      "34    California\n",
      "35      New York\n",
      "36       Florida\n",
      "37    California\n",
      "38      New York\n",
      "39    California\n",
      "40    California\n",
      "41       Florida\n",
      "42    California\n",
      "43      New York\n",
      "44    California\n",
      "45      New York\n",
      "46       Florida\n",
      "47    California\n",
      "48      New York\n",
      "49    California\n",
      "Name: State, dtype: object\n"
     ]
    }
   ],
   "source": [
    "print(data['State'])"
   ]
  },
  {
   "cell_type": "markdown",
   "id": "5c2c1a07",
   "metadata": {},
   "source": [
    "## Step 4 . Splitting dataset in to input and output"
   ]
  },
  {
   "cell_type": "code",
   "execution_count": 18,
   "id": "3fba0985",
   "metadata": {},
   "outputs": [
    {
     "name": "stdout",
     "output_type": "stream",
     "text": [
      "Input Features (x):\n",
      "[[165349.2 ]\n",
      " [162597.7 ]\n",
      " [153441.51]\n",
      " [144372.41]\n",
      " [142107.34]]\n",
      "\n",
      "Output Target (y):\n",
      "0    192261.83\n",
      "1    191792.06\n",
      "2    191050.39\n",
      "3    182901.99\n",
      "4    166187.94\n",
      "Name: Profit, dtype: float64\n"
     ]
    }
   ],
   "source": [
    "x = data[['R&D Spend']].values.reshape(-1, 1) \n",
    "y = data['Profit']\n",
    "\n",
    "print(\"Input Features (x):\")\n",
    "print(x[:5])  \n",
    "\n",
    "print(\"\\nOutput Target (y):\")\n",
    "print(y[:5])  "
   ]
  },
  {
   "cell_type": "markdown",
   "id": "8321d8b7",
   "metadata": {},
   "source": [
    "## Step 5 . Convert state Column into Numeric Column"
   ]
  },
  {
   "cell_type": "markdown",
   "id": "6c6d49ec",
   "metadata": {},
   "source": [
    "## Step 5.1 .  Import  ColumnTransformer"
   ]
  },
  {
   "cell_type": "code",
   "execution_count": 23,
   "id": "00856801",
   "metadata": {},
   "outputs": [],
   "source": [
    "from sklearn.compose import ColumnTransformer"
   ]
  },
  {
   "cell_type": "markdown",
   "id": "40c524c8",
   "metadata": {},
   "source": [
    "## Step 5.2 .  Import  OneHotEncoder"
   ]
  },
  {
   "cell_type": "code",
   "execution_count": 24,
   "id": "16426d5c",
   "metadata": {},
   "outputs": [],
   "source": [
    "from sklearn.preprocessing import OneHotEncoder\n"
   ]
  },
  {
   "cell_type": "markdown",
   "id": "50619208",
   "metadata": {},
   "source": [
    "## Step 5.3 .  Perform Transformation"
   ]
  },
  {
   "cell_type": "code",
   "execution_count": 25,
   "id": "8ae9f39a",
   "metadata": {},
   "outputs": [
    {
     "name": "stdout",
     "output_type": "stream",
     "text": [
      "   state__State_California  state__State_Florida  state__State_New York  \\\n",
      "0                      0.0                   0.0                    1.0   \n",
      "1                      1.0                   0.0                    0.0   \n",
      "2                      0.0                   1.0                    0.0   \n",
      "3                      0.0                   0.0                    1.0   \n",
      "4                      0.0                   1.0                    0.0   \n",
      "\n",
      "   remainder__R&D Spend  remainder__Administration  \\\n",
      "0             165349.20                  136897.80   \n",
      "1             162597.70                  151377.59   \n",
      "2             153441.51                  101145.55   \n",
      "3             144372.41                  118671.85   \n",
      "4             142107.34                   91391.77   \n",
      "\n",
      "   remainder__Marketing Spend  remainder__Profit  \n",
      "0                   471784.10          192261.83  \n",
      "1                   443898.53          191792.06  \n",
      "2                   407934.54          191050.39  \n",
      "3                   383199.62          182901.99  \n",
      "4                   366168.42          166187.94  \n"
     ]
    }
   ],
   "source": [
    "column_transformer = ColumnTransformer(\n",
    "    transformers=[\n",
    "        ('state', OneHotEncoder(), ['State'])  \n",
    "    ], \n",
    "    remainder='passthrough'  \n",
    ")\n",
    "\n",
    "data_transformed = column_transformer.fit_transform(data)\n",
    "\n",
    "data_transformed_df = pd.DataFrame(data_transformed, columns=column_transformer.get_feature_names_out())\n",
    "\n",
    "print(data_transformed_df.head())"
   ]
  },
  {
   "cell_type": "markdown",
   "id": "5549eaa8",
   "metadata": {},
   "source": [
    "## Step 6 . Dummy variable trap"
   ]
  },
  {
   "cell_type": "code",
   "execution_count": 27,
   "id": "161626d6",
   "metadata": {},
   "outputs": [
    {
     "name": "stdout",
     "output_type": "stream",
     "text": [
      "   state__State_Florida  state__State_New York  remainder__R&D Spend  \\\n",
      "0                   0.0                    1.0             165349.20   \n",
      "1                   0.0                    0.0             162597.70   \n",
      "2                   1.0                    0.0             153441.51   \n",
      "3                   0.0                    1.0             144372.41   \n",
      "4                   1.0                    0.0             142107.34   \n",
      "\n",
      "   remainder__Administration  remainder__Marketing Spend  remainder__Profit  \n",
      "0                  136897.80                   471784.10          192261.83  \n",
      "1                  151377.59                   443898.53          191792.06  \n",
      "2                  101145.55                   407934.54          191050.39  \n",
      "3                  118671.85                   383199.62          182901.99  \n",
      "4                   91391.77                   366168.42          166187.94  \n"
     ]
    }
   ],
   "source": [
    "column_transformer = ColumnTransformer(\n",
    "    transformers=[\n",
    "        ('state', OneHotEncoder(drop='first'), ['State']) \n",
    "    ], \n",
    "    remainder='passthrough'  \n",
    ")\n",
    "\n",
    "data_transformed = column_transformer.fit_transform(data)\n",
    "\n",
    "data_transformed_df = pd.DataFrame(data_transformed, columns=column_transformer.get_feature_names_out())\n",
    "\n",
    "print(data_transformed_df.head())"
   ]
  },
  {
   "cell_type": "markdown",
   "id": "746d6bb1",
   "metadata": {},
   "source": [
    "## Step 7 Splitting dataset in to Train and Test"
   ]
  },
  {
   "cell_type": "code",
   "execution_count": 29,
   "id": "b18d03f8",
   "metadata": {},
   "outputs": [
    {
     "name": "stdout",
     "output_type": "stream",
     "text": [
      "Training data shape (X_train, y_train): (40, 4), (40,)\n",
      "Test data shape (X_test, y_test): (10, 4), (10,)\n"
     ]
    }
   ],
   "source": [
    "X = data.drop('Profit', axis=1) \n",
    "y = data['Profit']  \n",
    "\n",
    "X_train, X_test, y_train, y_test = train_test_split(X, y, test_size=0.2, random_state=42)\n",
    "\n",
    "print(f\"Training data shape (X_train, y_train): {X_train.shape}, {y_train.shape}\")\n",
    "print(f\"Test data shape (X_test, y_test): {X_test.shape}, {y_test.shape}\")"
   ]
  },
  {
   "cell_type": "markdown",
   "id": "d4345bf6",
   "metadata": {},
   "source": [
    "## Step 8  Import LinearRegression model from linear_model family "
   ]
  },
  {
   "cell_type": "code",
   "execution_count": 34,
   "id": "4a6e7883",
   "metadata": {},
   "outputs": [],
   "source": [
    "model = LinearRegression()\n",
    "\n"
   ]
  },
  {
   "cell_type": "markdown",
   "id": "8efd4ee4",
   "metadata": {},
   "source": [
    "## Step 9  Fit the data"
   ]
  },
  {
   "cell_type": "code",
   "execution_count": 38,
   "id": "8e207387",
   "metadata": {},
   "outputs": [
    {
     "name": "stdout",
     "output_type": "stream",
     "text": [
      "Model coefficients: [ 9.38793006e+02  6.98775997e+00  8.05630064e-01 -6.87878823e-02\n",
      "  2.98554429e-02]\n",
      "Model intercept: 54028.03959405866\n"
     ]
    }
   ],
   "source": [
    "column_transformer = ColumnTransformer(\n",
    "    transformers=[\n",
    "        ('state', OneHotEncoder(drop='first'), ['State'])  \n",
    "    ], \n",
    "    remainder='passthrough'  \n",
    ")\n",
    "\n",
    "X_transformed = column_transformer.fit_transform(X)\n",
    "\n",
    "X_train, X_test, y_train, y_test = train_test_split(X_transformed, y, test_size=0.2, random_state=42)\n",
    "\n",
    "model = LinearRegression()\n",
    "\n",
    "model.fit(X_train, y_train)\n",
    "\n",
    "print(\"Model coefficients:\", model.coef_)\n",
    "print(\"Model intercept:\", model.intercept_)"
   ]
  },
  {
   "cell_type": "markdown",
   "id": "2f3555e5",
   "metadata": {},
   "source": [
    "## Step 10  Predict the data"
   ]
  },
  {
   "cell_type": "code",
   "execution_count": 39,
   "id": "10385e67",
   "metadata": {},
   "outputs": [
    {
     "name": "stdout",
     "output_type": "stream",
     "text": [
      "Predictions: [126362.87908252  84608.45383643  99677.49425155  46357.46068582\n",
      " 128750.48288497  50912.41741905 109741.350327   100643.24281644\n",
      "  97599.275746   113097.42524437]\n"
     ]
    }
   ],
   "source": [
    "y_pred = model.predict(X_test)\n",
    "\n",
    "print(\"Predictions:\", y_pred)"
   ]
  },
  {
   "cell_type": "markdown",
   "id": "1930e756",
   "metadata": {},
   "source": [
    "## Step 11  Display Result"
   ]
  },
  {
   "cell_type": "code",
   "execution_count": 40,
   "id": "a774516c",
   "metadata": {},
   "outputs": [
    {
     "name": "stdout",
     "output_type": "stream",
     "text": [
      "Actual vs Predicted Results:\n",
      "        Actual      Predicted\n",
      "13  134307.35  126362.879083\n",
      "39   81005.76   84608.453836\n",
      "30   99937.59   99677.494252\n",
      "45   64926.08   46357.460686\n",
      "17  125370.37  128750.482885\n",
      "48   35673.41   50912.417419\n",
      "26  105733.54  109741.350327\n",
      "25  107404.34  100643.242816\n",
      "32   97427.84   97599.275746\n",
      "19  122776.86  113097.425244\n"
     ]
    }
   ],
   "source": [
    "result = pd.DataFrame({'Actual': y_test, 'Predicted': y_pred})\n",
    "\n",
    "print(\"Actual vs Predicted Results:\\n\", result)"
   ]
  }
 ],
 "metadata": {
  "kernelspec": {
   "display_name": "Python 3 (ipykernel)",
   "language": "python",
   "name": "python3"
  },
  "language_info": {
   "codemirror_mode": {
    "name": "ipython",
    "version": 3
   },
   "file_extension": ".py",
   "mimetype": "text/x-python",
   "name": "python",
   "nbconvert_exporter": "python",
   "pygments_lexer": "ipython3",
   "version": "3.12.6"
  }
 },
 "nbformat": 4,
 "nbformat_minor": 5
}
